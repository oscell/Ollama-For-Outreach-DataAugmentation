{
 "cells": [
  {
   "cell_type": "code",
   "execution_count": 5,
   "metadata": {},
   "outputs": [
    {
     "data": {
      "text/plain": [
       "['firstname', 'company']"
      ]
     },
     "execution_count": 5,
     "metadata": {},
     "output_type": "execute_result"
    }
   ],
   "source": [
    "import pandas as pd\n",
    "import re\n",
    "\n",
    "def extract_bracketed_text(s):\n",
    "    # Use regular expression to find all occurrences of text within double curly brackets\n",
    "    matches = re.findall(r\"\\{\\{(.+?)\\}\\}\", s)\n",
    "    return matches\n",
    "\n",
    "# Test the function with the provided string\n",
    "test_string = \"Hi {{firstname}}, I saw you were at {{company}}.\"\n",
    "extracted_text = extract_bracketed_text(test_string)\n",
    "extracted_text\n",
    "\n",
    "\n",
    "\n"
   ]
  },
  {
   "cell_type": "code",
   "execution_count": 6,
   "metadata": {},
   "outputs": [
    {
     "data": {
      "text/plain": [
       "['firstname', 'company']"
      ]
     },
     "execution_count": 6,
     "metadata": {},
     "output_type": "execute_result"
    },
    {
     "ename": "",
     "evalue": "",
     "output_type": "error",
     "traceback": [
      "\u001b[1;31mThe Kernel crashed while executing code in the the current cell or a previous cell. Please review the code in the cell(s) to identify a possible cause of the failure. Click <a href='https://aka.ms/vscodeJupyterKernelCrash'>here</a> for more info. View Jupyter <a href='command:jupyter.viewOutput'>log</a> for further details."
     ]
    }
   ],
   "source": [
    "# Sample DataFrame for demonstration\n",
    "data = {\n",
    "    'name': ['Alice', 'Bob', 'Charlie'],\n",
    "    'firstname': ['Alice', 'Bob', 'Charlie'],\n",
    "    'company': ['Acme Corp', 'Globex', 'Initech'],\n",
    "    'age': [25, 30, 35]\n",
    "}\n",
    "df = pd.DataFrame(data)\n",
    "\n",
    "# Function to check if extracted words exist as column headings in DataFrame\n",
    "def use_extracted_as_headings(df, extracted_words):\n",
    "    existing_columns = set(df.columns)\n",
    "    valid_columns = [word for word in extracted_words if word in existing_columns]\n",
    "    return valid_columns\n",
    "\n",
    "# Using the function with the extracted words from the previous example\n",
    "valid_columns = use_extracted_as_headings(df, extracted_text)\n",
    "valid_columns"
   ]
  }
 ],
 "metadata": {
  "kernelspec": {
   "display_name": "Python 3",
   "language": "python",
   "name": "python3"
  },
  "language_info": {
   "codemirror_mode": {
    "name": "ipython",
    "version": 3
   },
   "file_extension": ".py",
   "mimetype": "text/x-python",
   "name": "python",
   "nbconvert_exporter": "python",
   "pygments_lexer": "ipython3",
   "version": "3.11.7"
  }
 },
 "nbformat": 4,
 "nbformat_minor": 2
}
